{
  "nbformat": 4,
  "nbformat_minor": 0,
  "metadata": {
    "colab": {
      "name": "DAIN.ipynb",
      "version": "0.3.2",
      "provenance": [],
      "collapsed_sections": [],
      "include_colab_link": true
    },
    "kernelspec": {
      "name": "python3",
      "display_name": "Python 3"
    },
    "accelerator": "GPU"
  },
  "cells": [
    {
      "cell_type": "markdown",
      "metadata": {
        "id": "view-in-github",
        "colab_type": "text"
      },
      "source": [
        "<a href=\"https://colab.research.google.com/github/stalgiag/DAIN/blob/master/DAIN.ipynb\" target=\"_parent\"><img src=\"https://colab.research.google.com/assets/colab-badge.svg\" alt=\"Open In Colab\"/></a>"
      ]
    },
    {
      "metadata": {
        "id": "VFvWTMpQsd_M",
        "colab_type": "text"
      },
      "cell_type": "markdown",
      "source": [
        "Check for CUDA"
      ]
    },
    {
      "metadata": {
        "id": "cEmh8QZar2hp",
        "colab_type": "code",
        "colab": {}
      },
      "cell_type": "code",
      "source": [
        "!nvcc --version"
      ],
      "execution_count": 0,
      "outputs": []
    },
    {
      "metadata": {
        "id": "ZOWhwi4rtDS8",
        "colab_type": "text"
      },
      "cell_type": "markdown",
      "source": [
        "Install Pytorch"
      ]
    },
    {
      "metadata": {
        "id": "engciW6zshoc",
        "colab_type": "code",
        "colab": {}
      },
      "cell_type": "code",
      "source": [
        "# different torch install needed\n",
        "# !pip3 uninstall torch\n",
        "!pip3 install -U https://download.pytorch.org/whl/cu100/torch-1.0.0-cp36-cp36m-linux_x86_64.whl"
      ],
      "execution_count": 0,
      "outputs": []
    },
    {
      "metadata": {
        "id": "NEduSAUYtJMd",
        "colab_type": "text"
      },
      "cell_type": "markdown",
      "source": [
        "Check Pytorch Install Works with Cuda"
      ]
    },
    {
      "metadata": {
        "id": "IvoIKI7ktNPs",
        "colab_type": "code",
        "colab": {}
      },
      "cell_type": "code",
      "source": [
        "!python -c \"import torch; print(torch.__version__); print(torch.cuda.is_available())\""
      ],
      "execution_count": 0,
      "outputs": []
    },
    {
      "metadata": {
        "id": "XLx_9yLJun-M",
        "colab_type": "code",
        "colab": {}
      },
      "cell_type": "code",
      "source": [
        "# we will verify that GPU is enabled for this notebook\n",
        "# following should print: CUDA is available!  Training on GPU ...\n",
        "# \n",
        "# if it prints otherwise, then you need to enable GPU: \n",
        "# from Menu > Runtime > Change Runtime Type > Hardware Accelerator > GPU\n",
        "\n",
        "import torch\n",
        "import numpy as np\n",
        "\n",
        "# check if CUDA is available\n",
        "train_on_gpu = torch.cuda.is_available()\n",
        "\n",
        "if not train_on_gpu:\n",
        "    print('CUDA is not available.  Training on CPU ...')\n",
        "else:\n",
        "    print('CUDA is available!  Training on GPU ...')"
      ],
      "execution_count": 0,
      "outputs": []
    },
    {
      "metadata": {
        "id": "Lz-NtXA7uqTc",
        "colab_type": "code",
        "colab": {}
      },
      "cell_type": "code",
      "source": [
        "# check that gcc is installed\n",
        "# should print version number along bottom\n",
        "!gcc -v"
      ],
      "execution_count": 0,
      "outputs": []
    },
    {
      "metadata": {
        "id": "7EsEBnGgHXc9",
        "colab_type": "text"
      },
      "cell_type": "markdown",
      "source": [
        "Clone my modified fork"
      ]
    },
    {
      "metadata": {
        "id": "JubU-aj7vdd8",
        "colab_type": "code",
        "colab": {}
      },
      "cell_type": "code",
      "source": [
        "#clone repo - my fork has a few simple mods that make this work with colab\n",
        "!git clone https://github.com/stalgiag/DAIN.git"
      ],
      "execution_count": 0,
      "outputs": []
    },
    {
      "metadata": {
        "id": "3IqSiw6RHbp8",
        "colab_type": "text"
      },
      "cell_type": "markdown",
      "source": [
        "Setup"
      ]
    },
    {
      "metadata": {
        "id": "Sx5bWsHMvnaM",
        "colab_type": "code",
        "colab": {}
      },
      "cell_type": "code",
      "source": [
        "#move into repo and setup\n",
        "#may take awhile\n",
        "%cd DAIN\n",
        "%cd my_package\n",
        "!./build.sh\n",
        "%cd ../PWCNet/correlation_package_pytorch1_0\n",
        "!./build.sh"
      ],
      "execution_count": 0,
      "outputs": []
    },
    {
      "metadata": {
        "id": "_95lsUHoyW_k",
        "colab_type": "code",
        "colab": {}
      },
      "cell_type": "code",
      "source": [
        "%cd ../../"
      ],
      "execution_count": 0,
      "outputs": []
    },
    {
      "metadata": {
        "id": "3Z6rYeR7yq4V",
        "colab_type": "code",
        "colab": {}
      },
      "cell_type": "code",
      "source": [
        "!mkdir model_weights\n",
        "!mkdir MiddleBurySet"
      ],
      "execution_count": 0,
      "outputs": []
    },
    {
      "metadata": {
        "id": "L0pwdZbIy4T9",
        "colab_type": "code",
        "colab": {}
      },
      "cell_type": "code",
      "source": [
        "%cd model_weights\n",
        "!wget http://vllab1.ucmerced.edu/~wenbobao/DAIN/best.pth"
      ],
      "execution_count": 0,
      "outputs": []
    },
    {
      "metadata": {
        "id": "mkLiYLKUy7mV",
        "colab_type": "code",
        "colab": {}
      },
      "cell_type": "code",
      "source": [
        "%cd ../MiddleBurySet\n",
        "!wget http://vision.middlebury.edu/flow/data/comp/zip/other-color-allframes.zip\n",
        "!unzip other-color-allframes.zip\n",
        "!wget http://vision.middlebury.edu/flow/data/comp/zip/other-gt-interp.zip\n",
        "!unzip other-gt-interp.zip\n",
        "%cd .."
      ],
      "execution_count": 0,
      "outputs": []
    },
    {
      "metadata": {
        "id": "aVBs35qX7Jcc",
        "colab_type": "code",
        "colab": {}
      },
      "cell_type": "code",
      "source": [
        "!nvidia-smi"
      ],
      "execution_count": 0,
      "outputs": []
    },
    {
      "metadata": {
        "id": "mV4TmBPYzNS8",
        "colab_type": "code",
        "colab": {}
      },
      "cell_type": "code",
      "source": [
        "#test that it works\n",
        "!CUDA_VISIBLE_DEVICES=0 python demo_MiddleBury.py"
      ],
      "execution_count": 0,
      "outputs": []
    },
    {
      "metadata": {
        "id": "_Sdlbu8Q_Shk",
        "colab_type": "code",
        "colab": {}
      },
      "cell_type": "code",
      "source": [
        "# slow motion fun\n",
        "# get rid of the uid flag if you don't want this to overwrite\n",
        "!CUDA_VISIBLE_DEVICES=0 python demo_MiddleBury_slowmotion.py --netName DAIN_slowmotion --time_step 0.1 --uid 111"
      ],
      "execution_count": 0,
      "outputs": []
    },
    {
      "metadata": {
        "id": "RuED4BrnAMtD",
        "colab_type": "code",
        "colab": {}
      },
      "cell_type": "code",
      "source": [
        "\n",
        "%cd MiddleBurySet/other-result-author/111/Beanbags\n",
        "!apt-get install imagemagick\n",
        "!convert -delay 1 -loop 0 *.png beanbag.gif"
      ],
      "execution_count": 0,
      "outputs": []
    },
    {
      "metadata": {
        "id": "_uAqazVuGqlC",
        "colab_type": "text"
      },
      "cell_type": "markdown",
      "source": [
        "This builds 10x slomo gif at  `DAIN/MiddleBurySet/other-result-author/111/Beanbags/beanbag.gif`"
      ]
    }
  ]
}