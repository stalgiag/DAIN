{
  "nbformat": 4,
  "nbformat_minor": 0,
  "metadata": {
    "colab": {
      "name": "DAIN.ipynb",
      "version": "0.3.2",
      "provenance": [],
      "collapsed_sections": [],
      "include_colab_link": true
    },
    "kernelspec": {
      "name": "python3",
      "display_name": "Python 3"
    },
    "accelerator": "GPU"
  },
  "cells": [
    {
      "cell_type": "markdown",
      "metadata": {
        "id": "view-in-github",
        "colab_type": "text"
      },
      "source": [
        "<a href=\"https://colab.research.google.com/github/stalgiag/DAIN/blob/master/DAIN.ipynb\" target=\"_parent\"><img src=\"https://colab.research.google.com/assets/colab-badge.svg\" alt=\"Open In Colab\"/></a>"
      ]
    },
    {
      "metadata": {
        "id": "VFvWTMpQsd_M",
        "colab_type": "text"
      },
      "cell_type": "markdown",
      "source": [
        "Check for CUDA"
      ]
    },
    {
      "metadata": {
        "id": "cEmh8QZar2hp",
        "colab_type": "code",
        "colab": {}
      },
      "cell_type": "code",
      "source": [
        "!nvcc --version"
      ],
      "execution_count": 0,
      "outputs": []
    },
    {
      "metadata": {
        "id": "ZOWhwi4rtDS8",
        "colab_type": "text"
      },
      "cell_type": "markdown",
      "source": [
        "Install Pytorch"
      ]
    },
    {
      "metadata": {
        "id": "engciW6zshoc",
        "colab_type": "code",
        "colab": {}
      },
      "cell_type": "code",
      "source": [
        "# different torch install needed\n",
        "# !pip3 uninstall torch\n",
        "!pip3 install -U https://download.pytorch.org/whl/cu100/torch-1.0.0-cp36-cp36m-linux_x86_64.whl"
      ],
      "execution_count": 0,
      "outputs": []
    },
    {
      "metadata": {
        "id": "NEduSAUYtJMd",
        "colab_type": "text"
      },
      "cell_type": "markdown",
      "source": [
        "Check Pytorch Install Works with Cuda"
      ]
    },
    {
      "metadata": {
        "id": "IvoIKI7ktNPs",
        "colab_type": "code",
        "colab": {}
      },
      "cell_type": "code",
      "source": [
        "!python -c \"import torch; print(torch.__version__); print(torch.cuda.is_available())\""
      ],
      "execution_count": 0,
      "outputs": []
    },
    {
      "metadata": {
        "id": "XLx_9yLJun-M",
        "colab_type": "code",
        "colab": {}
      },
      "cell_type": "code",
      "source": [
        "# we will verify that GPU is enabled for this notebook\n",
        "# following should print: CUDA is available!  Training on GPU ...\n",
        "# \n",
        "# if it prints otherwise, then you need to enable GPU: \n",
        "# from Menu > Runtime > Change Runtime Type > Hardware Accelerator > GPU\n",
        "\n",
        "import torch\n",
        "import numpy as np\n",
        "\n",
        "# check if CUDA is available\n",
        "train_on_gpu = torch.cuda.is_available()\n",
        "\n",
        "if not train_on_gpu:\n",
        "    print('CUDA is not available.  Training on CPU ...')\n",
        "else:\n",
        "    print('CUDA is available!  Training on GPU ...')"
      ],
      "execution_count": 0,
      "outputs": []
    },
    {
      "metadata": {
        "id": "Lz-NtXA7uqTc",
        "colab_type": "code",
        "colab": {}
      },
      "cell_type": "code",
      "source": [
        "# check that gcc is installed\n",
        "# should print version number along bottom\n",
        "!gcc -v"
      ],
      "execution_count": 0,
      "outputs": []
    },
    {
      "metadata": {
        "id": "7EsEBnGgHXc9",
        "colab_type": "text"
      },
      "cell_type": "markdown",
      "source": [
        "Clone my modified fork"
      ]
    },
    {
      "metadata": {
        "id": "JubU-aj7vdd8",
        "colab_type": "code",
        "colab": {}
      },
      "cell_type": "code",
      "source": [
        "#clone repo - my fork has a few simple mods that make this work with colab\n",
        "!git clone https://github.com/stalgiag/DAIN.git"
      ],
      "execution_count": 0,
      "outputs": []
    },
    {
      "metadata": {
        "id": "3IqSiw6RHbp8",
        "colab_type": "text"
      },
      "cell_type": "markdown",
      "source": [
        "Setup"
      ]
    },
    {
      "metadata": {
        "id": "Sx5bWsHMvnaM",
        "colab_type": "code",
        "colab": {}
      },
      "cell_type": "code",
      "source": [
        "#move into repo and setup\n",
        "#may take awhile\n",
        "%cd DAIN\n",
        "%cd my_package\n",
        "!./build.sh\n",
        "%cd ../PWCNet/correlation_package_pytorch1_0\n",
        "!./build.sh"
      ],
      "execution_count": 0,
      "outputs": []
    },
    {
      "metadata": {
        "id": "_95lsUHoyW_k",
        "colab_type": "code",
        "colab": {}
      },
      "cell_type": "code",
      "source": [
        "%cd ../../"
      ],
      "execution_count": 0,
      "outputs": []
    },
    {
      "metadata": {
        "id": "3Z6rYeR7yq4V",
        "colab_type": "code",
        "colab": {}
      },
      "cell_type": "code",
      "source": [
        "!mkdir model_weights\n",
        "!mkdir MiddleBurySet"
      ],
      "execution_count": 0,
      "outputs": []
    },
    {
      "metadata": {
        "id": "L0pwdZbIy4T9",
        "colab_type": "code",
        "colab": {}
      },
      "cell_type": "code",
      "source": [
        "%cd model_weights\n",
        "!wget http://vllab1.ucmerced.edu/~wenbobao/DAIN/best.pth"
      ],
      "execution_count": 0,
      "outputs": []
    },
    {
      "metadata": {
        "id": "mkLiYLKUy7mV",
        "colab_type": "code",
        "colab": {}
      },
      "cell_type": "code",
      "source": [
        "%cd ../MiddleBurySet\n",
        "!wget http://vision.middlebury.edu/flow/data/comp/zip/other-color-allframes.zip\n",
        "!unzip other-color-allframes.zip\n",
        "!wget http://vision.middlebury.edu/flow/data/comp/zip/other-gt-interp.zip\n",
        "!unzip other-gt-interp.zip\n",
        "%cd .."
      ],
      "execution_count": 0,
      "outputs": []
    },
    {
      "metadata": {
        "id": "aVBs35qX7Jcc",
        "colab_type": "code",
        "colab": {}
      },
      "cell_type": "code",
      "source": [
        "!nvidia-smi"
      ],
      "execution_count": 0,
      "outputs": []
    },
    {
      "metadata": {
        "id": "mV4TmBPYzNS8",
        "colab_type": "code",
        "colab": {}
      },
      "cell_type": "code",
      "source": [
        "#test that it works\n",
        "!CUDA_VISIBLE_DEVICES=0 python demo_MiddleBury.py"
      ],
      "execution_count": 0,
      "outputs": []
    },
    {
      "metadata": {
        "id": "_Sdlbu8Q_Shk",
        "colab_type": "code",
        "colab": {}
      },
      "cell_type": "code",
      "source": [
        "# slow motion fun\n",
        "# get rid of the uid flag if you don't want this to overwrite\n",
        "!CUDA_VISIBLE_DEVICES=0 python demo_MiddleBury_slowmotion.py --netName DAIN_slowmotion --time_step 0.1 --uid 111"
      ],
      "execution_count": 0,
      "outputs": []
    },
    {
      "metadata": {
        "id": "RuED4BrnAMtD",
        "colab_type": "code",
        "colab": {}
      },
      "cell_type": "code",
      "source": [
        "\n",
        "%cd MiddleBurySet/other-result-author/111/Beanbags\n",
        "!apt-get install imagemagick\n",
        "!convert -delay 1 -loop 0 *.png beanbag.gif"
      ],
      "execution_count": 0,
      "outputs": []
    },
    {
      "metadata": {
        "id": "_uAqazVuGqlC",
        "colab_type": "text"
      },
      "cell_type": "markdown",
      "source": [
        "This builds 10x slomo gif at  `DAIN/MiddleBurySet/other-result-author/111/Beanbags/beanbag.gif`"
      ]
    },
    {
      "metadata": {
        "id": "quBRBorYi3pW",
        "colab_type": "text"
      },
      "cell_type": "markdown",
      "source": [
        "The following is for building with multiple frames"
      ]
    },
    {
      "metadata": {
        "id": "CnPttJ2cOF_s",
        "colab_type": "code",
        "colab": {
          "base_uri": "https://localhost:8080/",
          "height": 35
        },
        "outputId": "b001489d-33b6-4a76-f593-4a767556d3c2"
      },
      "cell_type": "code",
      "source": [
        "%cd ../.."
      ],
      "execution_count": 89,
      "outputs": [
        {
          "output_type": "stream",
          "text": [
            "/content/DAIN\n"
          ],
          "name": "stdout"
        }
      ]
    },
    {
      "metadata": {
        "id": "GxNJmB8XbDvt",
        "colab_type": "code",
        "colab": {
          "base_uri": "https://localhost:8080/",
          "height": 1077
        },
        "outputId": "517a9b5f-38ec-4442-a7bb-b47759749d04"
      },
      "cell_type": "code",
      "source": [
        "%%shell\n",
        "for i in {10..13}\n",
        "do\n",
        "    echo $i\n",
        "    echo $(($i + 1))\n",
        "    CUDA_VISIBLE_DEVICES=0 python demo_MiddleBury_slowmotion.py --netName DAIN_slowmotion --time_step 0.025 --uid \"11111\" --force --firstImage \"frame$i.png\" --secondImage \"frame$(($i + 1)).png\"\n",
        "done"
      ],
      "execution_count": 101,
      "outputs": [
        {
          "output_type": "stream",
          "text": [
            "10\n",
            "11\n",
            "Namespace(SAVED_MODEL=None, arg='../model_weights/11111/args.txt', channels=3, datasetName='Vimeo_90K_interp', datasetPath='', dataset_split=97, debug=False, dtype=<class 'torch.cuda.FloatTensor'>, filter_size=4, firstImage='frame10.png', force=True, log='../model_weights/11111/log.txt', netName='DAIN_slowmotion', no_date=False, save_path='../model_weights/11111', save_which=1, secondImage='frame11.png', seed=1, time_step=0.025, uid='11111', use_cuda=True, use_cudnn=1, workers=8)\n",
            "cudnn is used\n",
            "No weights loaded for Hourglass Network\n",
            "The testing model weight is: ./model_weights/best.pth\n",
            "The unique id for current testing is: 2145\n",
            "HR\n",
            "/usr/local/lib/python3.6/dist-packages/torch/nn/modules/upsampling.py:129: UserWarning: nn.UpsamplingNearest2d is deprecated. Use nn.functional.interpolate instead.\n",
            "  warnings.warn(\"nn.{} is deprecated. Use nn.functional.interpolate instead.\".format(self.name))\n",
            "/usr/local/lib/python3.6/dist-packages/torch/nn/modules/upsampling.py:129: UserWarning: nn.Upsample is deprecated. Use nn.functional.interpolate instead.\n",
            "  warnings.warn(\"nn.{} is deprecated. Use nn.functional.interpolate instead.\".format(self.name))\n",
            "/usr/local/lib/python3.6/dist-packages/torch/nn/functional.py:2423: UserWarning: Default upsampling behavior when mode=bilinear is changed to align_corners=False since 0.4.0. Please specify align_corners=True if the old behavior is desired. See the documentation of nn.Upsample for details.\n",
            "  \"See the documentation of nn.Upsample for details.\".format(mode))\n",
            "*****************current image process time \t 7.681299924850464s ******************\n",
            "11\n",
            "12\n",
            "Namespace(SAVED_MODEL=None, arg='../model_weights/11111/args.txt', channels=3, datasetName='Vimeo_90K_interp', datasetPath='', dataset_split=97, debug=False, dtype=<class 'torch.cuda.FloatTensor'>, filter_size=4, firstImage='frame11.png', force=True, log='../model_weights/11111/log.txt', netName='DAIN_slowmotion', no_date=False, save_path='../model_weights/11111', save_which=1, secondImage='frame12.png', seed=1, time_step=0.025, uid='11111', use_cuda=True, use_cudnn=1, workers=8)\n",
            "cudnn is used\n",
            "No weights loaded for Hourglass Network\n",
            "The testing model weight is: ./model_weights/best.pth\n",
            "The unique id for current testing is: 55341\n",
            "HR\n",
            "/usr/local/lib/python3.6/dist-packages/torch/nn/modules/upsampling.py:129: UserWarning: nn.UpsamplingNearest2d is deprecated. Use nn.functional.interpolate instead.\n",
            "  warnings.warn(\"nn.{} is deprecated. Use nn.functional.interpolate instead.\".format(self.name))\n",
            "/usr/local/lib/python3.6/dist-packages/torch/nn/modules/upsampling.py:129: UserWarning: nn.Upsample is deprecated. Use nn.functional.interpolate instead.\n",
            "  warnings.warn(\"nn.{} is deprecated. Use nn.functional.interpolate instead.\".format(self.name))\n",
            "/usr/local/lib/python3.6/dist-packages/torch/nn/functional.py:2423: UserWarning: Default upsampling behavior when mode=bilinear is changed to align_corners=False since 0.4.0. Please specify align_corners=True if the old behavior is desired. See the documentation of nn.Upsample for details.\n",
            "  \"See the documentation of nn.Upsample for details.\".format(mode))\n",
            "*****************current image process time \t 7.7493815422058105s ******************\n",
            "12\n",
            "13\n",
            "Namespace(SAVED_MODEL=None, arg='../model_weights/11111/args.txt', channels=3, datasetName='Vimeo_90K_interp', datasetPath='', dataset_split=97, debug=False, dtype=<class 'torch.cuda.FloatTensor'>, filter_size=4, firstImage='frame12.png', force=True, log='../model_weights/11111/log.txt', netName='DAIN_slowmotion', no_date=False, save_path='../model_weights/11111', save_which=1, secondImage='frame13.png', seed=1, time_step=0.025, uid='11111', use_cuda=True, use_cudnn=1, workers=8)\n",
            "cudnn is used\n",
            "No weights loaded for Hourglass Network\n",
            "The testing model weight is: ./model_weights/best.pth\n",
            "The unique id for current testing is: 14720\n",
            "HR\n",
            "/usr/local/lib/python3.6/dist-packages/torch/nn/modules/upsampling.py:129: UserWarning: nn.UpsamplingNearest2d is deprecated. Use nn.functional.interpolate instead.\n",
            "  warnings.warn(\"nn.{} is deprecated. Use nn.functional.interpolate instead.\".format(self.name))\n",
            "/usr/local/lib/python3.6/dist-packages/torch/nn/modules/upsampling.py:129: UserWarning: nn.Upsample is deprecated. Use nn.functional.interpolate instead.\n",
            "  warnings.warn(\"nn.{} is deprecated. Use nn.functional.interpolate instead.\".format(self.name))\n",
            "/usr/local/lib/python3.6/dist-packages/torch/nn/functional.py:2423: UserWarning: Default upsampling behavior when mode=bilinear is changed to align_corners=False since 0.4.0. Please specify align_corners=True if the old behavior is desired. See the documentation of nn.Upsample for details.\n",
            "  \"See the documentation of nn.Upsample for details.\".format(mode))\n",
            "*****************current image process time \t 7.81908392906189s ******************\n",
            "13\n",
            "14\n",
            "Namespace(SAVED_MODEL=None, arg='../model_weights/11111/args.txt', channels=3, datasetName='Vimeo_90K_interp', datasetPath='', dataset_split=97, debug=False, dtype=<class 'torch.cuda.FloatTensor'>, filter_size=4, firstImage='frame13.png', force=True, log='../model_weights/11111/log.txt', netName='DAIN_slowmotion', no_date=False, save_path='../model_weights/11111', save_which=1, secondImage='frame14.png', seed=1, time_step=0.025, uid='11111', use_cuda=True, use_cudnn=1, workers=8)\n",
            "cudnn is used\n",
            "No weights loaded for Hourglass Network\n",
            "The testing model weight is: ./model_weights/best.pth\n",
            "The unique id for current testing is: 62900\n",
            "HR\n",
            "/usr/local/lib/python3.6/dist-packages/torch/nn/modules/upsampling.py:129: UserWarning: nn.UpsamplingNearest2d is deprecated. Use nn.functional.interpolate instead.\n",
            "  warnings.warn(\"nn.{} is deprecated. Use nn.functional.interpolate instead.\".format(self.name))\n",
            "/usr/local/lib/python3.6/dist-packages/torch/nn/modules/upsampling.py:129: UserWarning: nn.Upsample is deprecated. Use nn.functional.interpolate instead.\n",
            "  warnings.warn(\"nn.{} is deprecated. Use nn.functional.interpolate instead.\".format(self.name))\n",
            "/usr/local/lib/python3.6/dist-packages/torch/nn/functional.py:2423: UserWarning: Default upsampling behavior when mode=bilinear is changed to align_corners=False since 0.4.0. Please specify align_corners=True if the old behavior is desired. See the documentation of nn.Upsample for details.\n",
            "  \"See the documentation of nn.Upsample for details.\".format(mode))\n",
            "*****************current image process time \t 8.044506072998047s ******************\n"
          ],
          "name": "stdout"
        },
        {
          "output_type": "execute_result",
          "data": {
            "text/plain": [
              ""
            ]
          },
          "metadata": {
            "tags": []
          },
          "execution_count": 101
        }
      ]
    },
    {
      "metadata": {
        "id": "SzH_I19lPMVk",
        "colab_type": "code",
        "colab": {
          "base_uri": "https://localhost:8080/",
          "height": 3016
        },
        "outputId": "05ecf6e2-dc00-4d65-9805-ef6fc4ca760a"
      },
      "cell_type": "code",
      "source": [
        "%cd MiddleBurySet/other-result-author/\n",
        "!zip -r res40x2.zip 2145/ 55341/ 14720/ 62900/"
      ],
      "execution_count": 103,
      "outputs": [
        {
          "output_type": "stream",
          "text": [
            "/content/DAIN/MiddleBurySet/other-result-author\n",
            "  adding: 2145/ (stored 0%)\n",
            "  adding: 2145/HR/ (stored 0%)\n",
            "  adding: 2145/HR/0005.png (deflated 0%)\n",
            "  adding: 2145/HR/0017.png (deflated 0%)\n",
            "  adding: 2145/HR/0037.png (deflated 0%)\n",
            "  adding: 2145/HR/0013.png (deflated 0%)\n",
            "  adding: 2145/HR/0035.png (deflated 0%)\n",
            "  adding: 2145/HR/0029.png (deflated 0%)\n",
            "  adding: 2145/HR/0015.png (deflated 0%)\n",
            "  adding: 2145/HR/0007.png (deflated 0%)\n",
            "  adding: 2145/HR/0011.png (deflated 0%)\n",
            "  adding: 2145/HR/0016.png (deflated 0%)\n",
            "  adding: 2145/HR/0030.png (deflated 0%)\n",
            "  adding: 2145/HR/0038.png (deflated 0%)\n",
            "  adding: 2145/HR/0003.png (deflated 0%)\n",
            "  adding: 2145/HR/0020.png (deflated 0%)\n",
            "  adding: 2145/HR/0021.png (deflated 0%)\n",
            "  adding: 2145/HR/0028.png (deflated 0%)\n",
            "  adding: 2145/HR/0009.png (deflated 0%)\n",
            "  adding: 2145/HR/0019.png (deflated 0%)\n",
            "  adding: 2145/HR/0023.png (deflated 0%)\n",
            "  adding: 2145/HR/0040.png (deflated 0%)\n",
            "  adding: 2145/HR/0034.png (deflated 0%)\n",
            "  adding: 2145/HR/0010.png (deflated 0%)\n",
            "  adding: 2145/HR/0026.png (deflated 0%)\n",
            "  adding: 2145/HR/0033.png (deflated 0%)\n",
            "  adding: 2145/HR/0024.png (deflated 0%)\n",
            "  adding: 2145/HR/0039.png (deflated 0%)\n",
            "  adding: 2145/HR/0004.png (deflated 0%)\n",
            "  adding: 2145/HR/0027.png (deflated 0%)\n",
            "  adding: 2145/HR/0025.png (deflated 0%)\n",
            "  adding: 2145/HR/0001.png (deflated 0%)\n",
            "  adding: 2145/HR/0014.png (deflated 0%)\n",
            "  adding: 2145/HR/0031.png (deflated 0%)\n",
            "  adding: 2145/HR/0002.png (deflated 0%)\n",
            "  adding: 2145/HR/0008.png (deflated 0%)\n",
            "  adding: 2145/HR/0012.png (deflated 0%)\n",
            "  adding: 2145/HR/0036.png (deflated 0%)\n",
            "  adding: 2145/HR/0032.png (deflated 0%)\n",
            "  adding: 2145/HR/0018.png (deflated 0%)\n",
            "  adding: 2145/HR/0022.png (deflated 0%)\n",
            "  adding: 2145/HR/0000.png (deflated 0%)\n",
            "  adding: 2145/HR/0006.png (deflated 0%)\n",
            "  adding: 55341/ (stored 0%)\n",
            "  adding: 55341/HR/ (stored 0%)\n",
            "  adding: 55341/HR/0005.png (deflated 0%)\n",
            "  adding: 55341/HR/0017.png (deflated 0%)\n",
            "  adding: 55341/HR/0037.png (deflated 0%)\n",
            "  adding: 55341/HR/0013.png (deflated 0%)\n",
            "  adding: 55341/HR/0035.png (deflated 0%)\n",
            "  adding: 55341/HR/0029.png (deflated 0%)\n",
            "  adding: 55341/HR/0015.png (deflated 0%)\n",
            "  adding: 55341/HR/0007.png (deflated 0%)\n",
            "  adding: 55341/HR/0011.png (deflated 0%)\n",
            "  adding: 55341/HR/0016.png (deflated 0%)\n",
            "  adding: 55341/HR/0030.png (deflated 0%)\n",
            "  adding: 55341/HR/0038.png (deflated 0%)\n",
            "  adding: 55341/HR/0003.png (deflated 0%)\n",
            "  adding: 55341/HR/0020.png (deflated 0%)\n",
            "  adding: 55341/HR/0021.png (deflated 0%)\n",
            "  adding: 55341/HR/0028.png (deflated 0%)\n",
            "  adding: 55341/HR/0009.png (deflated 0%)\n",
            "  adding: 55341/HR/0019.png (deflated 0%)\n",
            "  adding: 55341/HR/0023.png (deflated 0%)\n",
            "  adding: 55341/HR/0040.png (deflated 0%)\n",
            "  adding: 55341/HR/0034.png (deflated 0%)\n",
            "  adding: 55341/HR/0010.png (deflated 0%)\n",
            "  adding: 55341/HR/0026.png (deflated 0%)\n",
            "  adding: 55341/HR/0033.png (deflated 0%)\n",
            "  adding: 55341/HR/0024.png (deflated 0%)\n",
            "  adding: 55341/HR/0039.png (deflated 0%)\n",
            "  adding: 55341/HR/0004.png (deflated 0%)\n",
            "  adding: 55341/HR/0027.png (deflated 0%)\n",
            "  adding: 55341/HR/0025.png (deflated 0%)\n",
            "  adding: 55341/HR/0001.png (deflated 0%)\n",
            "  adding: 55341/HR/0014.png (deflated 0%)\n",
            "  adding: 55341/HR/0031.png (deflated 0%)\n",
            "  adding: 55341/HR/0002.png (deflated 0%)\n",
            "  adding: 55341/HR/0008.png (deflated 0%)\n",
            "  adding: 55341/HR/0012.png (deflated 0%)\n",
            "  adding: 55341/HR/0036.png (deflated 0%)\n",
            "  adding: 55341/HR/0032.png (deflated 0%)\n",
            "  adding: 55341/HR/0018.png (deflated 0%)\n",
            "  adding: 55341/HR/0022.png (deflated 0%)\n",
            "  adding: 55341/HR/0000.png (deflated 0%)\n",
            "  adding: 55341/HR/0006.png (deflated 0%)\n",
            "  adding: 14720/ (stored 0%)\n",
            "  adding: 14720/HR/ (stored 0%)\n",
            "  adding: 14720/HR/0005.png (deflated 0%)\n",
            "  adding: 14720/HR/0017.png (deflated 0%)\n",
            "  adding: 14720/HR/0037.png (deflated 0%)\n",
            "  adding: 14720/HR/0013.png (deflated 0%)\n",
            "  adding: 14720/HR/0035.png (deflated 0%)\n",
            "  adding: 14720/HR/0029.png (deflated 0%)\n",
            "  adding: 14720/HR/0015.png (deflated 0%)\n",
            "  adding: 14720/HR/0007.png (deflated 0%)\n",
            "  adding: 14720/HR/0011.png (deflated 0%)\n",
            "  adding: 14720/HR/0016.png (deflated 0%)\n",
            "  adding: 14720/HR/0030.png (deflated 0%)\n",
            "  adding: 14720/HR/0038.png (deflated 0%)\n",
            "  adding: 14720/HR/0003.png (deflated 0%)\n",
            "  adding: 14720/HR/0020.png (deflated 0%)\n",
            "  adding: 14720/HR/0021.png (deflated 0%)\n",
            "  adding: 14720/HR/0028.png (deflated 0%)\n",
            "  adding: 14720/HR/0009.png (deflated 0%)\n",
            "  adding: 14720/HR/0019.png (deflated 0%)\n",
            "  adding: 14720/HR/0023.png (deflated 0%)\n",
            "  adding: 14720/HR/0040.png (deflated 0%)\n",
            "  adding: 14720/HR/0034.png (deflated 0%)\n",
            "  adding: 14720/HR/0010.png (deflated 0%)\n",
            "  adding: 14720/HR/0026.png (deflated 0%)\n",
            "  adding: 14720/HR/0033.png (deflated 0%)\n",
            "  adding: 14720/HR/0024.png (deflated 0%)\n",
            "  adding: 14720/HR/0039.png (deflated 0%)\n",
            "  adding: 14720/HR/0004.png (deflated 0%)\n",
            "  adding: 14720/HR/0027.png (deflated 0%)\n",
            "  adding: 14720/HR/0025.png (deflated 0%)\n",
            "  adding: 14720/HR/0001.png (deflated 0%)\n",
            "  adding: 14720/HR/0014.png (deflated 0%)\n",
            "  adding: 14720/HR/0031.png (deflated 0%)\n",
            "  adding: 14720/HR/0002.png (deflated 0%)\n",
            "  adding: 14720/HR/0008.png (deflated 0%)\n",
            "  adding: 14720/HR/0012.png (deflated 0%)\n",
            "  adding: 14720/HR/0036.png (deflated 0%)\n",
            "  adding: 14720/HR/0032.png (deflated 0%)\n",
            "  adding: 14720/HR/0018.png (deflated 0%)\n",
            "  adding: 14720/HR/0022.png (deflated 0%)\n",
            "  adding: 14720/HR/0000.png (deflated 0%)\n",
            "  adding: 14720/HR/0006.png (deflated 0%)\n",
            "  adding: 62900/ (stored 0%)\n",
            "  adding: 62900/HR/ (stored 0%)\n",
            "  adding: 62900/HR/0005.png (deflated 0%)\n",
            "  adding: 62900/HR/0017.png (deflated 0%)\n",
            "  adding: 62900/HR/0037.png (deflated 0%)\n",
            "  adding: 62900/HR/0013.png (deflated 0%)\n",
            "  adding: 62900/HR/0035.png (deflated 0%)\n",
            "  adding: 62900/HR/0029.png (deflated 0%)\n",
            "  adding: 62900/HR/0015.png (deflated 0%)\n",
            "  adding: 62900/HR/0007.png (deflated 0%)\n",
            "  adding: 62900/HR/0011.png (deflated 0%)\n",
            "  adding: 62900/HR/0016.png (deflated 0%)\n",
            "  adding: 62900/HR/0030.png (deflated 0%)\n",
            "  adding: 62900/HR/0038.png (deflated 0%)\n",
            "  adding: 62900/HR/0003.png (deflated 0%)\n",
            "  adding: 62900/HR/0020.png (deflated 0%)\n",
            "  adding: 62900/HR/0021.png (deflated 0%)\n",
            "  adding: 62900/HR/0028.png (deflated 0%)\n",
            "  adding: 62900/HR/0009.png (deflated 0%)\n",
            "  adding: 62900/HR/0019.png (deflated 0%)\n",
            "  adding: 62900/HR/0023.png (deflated 0%)\n",
            "  adding: 62900/HR/0040.png (deflated 0%)\n",
            "  adding: 62900/HR/0034.png (deflated 0%)\n",
            "  adding: 62900/HR/0010.png (deflated 0%)\n",
            "  adding: 62900/HR/0026.png (deflated 0%)\n",
            "  adding: 62900/HR/0033.png (deflated 0%)\n",
            "  adding: 62900/HR/0024.png (deflated 0%)\n",
            "  adding: 62900/HR/0039.png (deflated 0%)\n",
            "  adding: 62900/HR/0004.png (deflated 0%)\n",
            "  adding: 62900/HR/0027.png (deflated 0%)\n",
            "  adding: 62900/HR/0025.png (deflated 0%)\n",
            "  adding: 62900/HR/0001.png (deflated 0%)\n",
            "  adding: 62900/HR/0014.png (deflated 0%)\n",
            "  adding: 62900/HR/0031.png (deflated 0%)\n",
            "  adding: 62900/HR/0002.png (deflated 0%)\n",
            "  adding: 62900/HR/0008.png (deflated 0%)\n",
            "  adding: 62900/HR/0012.png (deflated 0%)\n",
            "  adding: 62900/HR/0036.png (deflated 0%)\n",
            "  adding: 62900/HR/0032.png (deflated 0%)\n",
            "  adding: 62900/HR/0018.png (deflated 0%)\n",
            "  adding: 62900/HR/0022.png (deflated 0%)\n",
            "  adding: 62900/HR/0000.png (deflated 0%)\n",
            "  adding: 62900/HR/0006.png (deflated 0%)\n"
          ],
          "name": "stdout"
        }
      ]
    }
  ]
}